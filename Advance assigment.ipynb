{
 "cells": [
  {
   "cell_type": "markdown",
   "id": "fb5e8e2f",
   "metadata": {},
   "source": [
    "1. OOPS (object oriented programming prupose is that it offers resuability of code because here you need not write code everytime you want run a anything instead, you can create classes defining the functionality by creating an object of that."
   ]
  },
  {
   "cell_type": "markdown",
   "id": "45567fce",
   "metadata": {},
   "source": [
    "2. First it will look in the object, then in all classes. Attributes are simply search trees. "
   ]
  },
  {
   "cell_type": "markdown",
   "id": "8253cb29",
   "metadata": {},
   "source": [
    "3. objects are used to instantising class. For example, new book() here book is the class and new will be the object. Whereas, istance is the memory block which contains the reference to an object. for example, book mybook= new book() here the object new book is stored in mycare which is the instance."
   ]
  },
  {
   "cell_type": "markdown",
   "id": "70b0e74b",
   "metadata": {},
   "source": [
    "4. class (cls), this argument make special because this will help in classifaction for an object. "
   ]
  },
  {
   "cell_type": "markdown",
   "id": "b4cffd27",
   "metadata": {},
   "source": [
    "5. __init__ method this helps to pass data to class"
   ]
  },
  {
   "cell_type": "markdown",
   "id": "c930c775",
   "metadata": {},
   "source": [
    "6.\n",
    "class books:\n",
    "    def __init__(self, name, auther):\n",
    "        self.name = name\n",
    "        self.auther = auther\n",
    "firstly we have to create a class , following with creating the function and assigning the instances like self.name and self.auther. here self is an instance and name is an attribute. "
   ]
  },
  {
   "cell_type": "markdown",
   "id": "2756eb73",
   "metadata": {},
   "source": [
    "7. \n",
    "class books: \n",
    "here we crated a class naming it books that holds all the instances. \n"
   ]
  },
  {
   "cell_type": "markdown",
   "id": "dd82ca5e",
   "metadata": {},
   "source": [
    "8. The superclasses of a class are the subclasses, for instance, ineuron is an immediate subclass of the View class. This means that ineuron is directly below View in the class hierarchy."
   ]
  }
 ],
 "metadata": {
  "kernelspec": {
   "display_name": "Python 3 (ipykernel)",
   "language": "python",
   "name": "python3"
  },
  "language_info": {
   "codemirror_mode": {
    "name": "ipython",
    "version": 3
   },
   "file_extension": ".py",
   "mimetype": "text/x-python",
   "name": "python",
   "nbconvert_exporter": "python",
   "pygments_lexer": "ipython3",
   "version": "3.9.12"
  }
 },
 "nbformat": 4,
 "nbformat_minor": 5
}
