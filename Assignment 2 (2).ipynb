{
 "cells": [
  {
   "cell_type": "markdown",
   "id": "0e16d9c3",
   "metadata": {},
   "source": [
    "1. The two values of boolean data type are True and False. We can write them by commanding the values for example: "
   ]
  },
  {
   "cell_type": "code",
   "execution_count": 5,
   "id": "11b702de",
   "metadata": {},
   "outputs": [
    {
     "data": {
      "text/plain": [
       "True"
      ]
     },
     "execution_count": 5,
     "metadata": {},
     "output_type": "execute_result"
    }
   ],
   "source": [
    "bool (4>=4)"
   ]
  },
  {
   "cell_type": "code",
   "execution_count": 6,
   "id": "1ee9dd3a",
   "metadata": {},
   "outputs": [
    {
     "data": {
      "text/plain": [
       "False"
      ]
     },
     "execution_count": 6,
     "metadata": {},
     "output_type": "execute_result"
    }
   ],
   "source": [
    "bool (4>9)"
   ]
  },
  {
   "cell_type": "markdown",
   "id": "ea2736c8",
   "metadata": {},
   "source": [
    "2. The three different types of Boolean operators are AND, OR and NOT. "
   ]
  },
  {
   "cell_type": "markdown",
   "id": "87221b2b",
   "metadata": {},
   "source": [
    "3. The list of each Boolean operator's truth tables for the value operators that is AND, OR and NOT is as follows.\n",
    "   First let's see for AND operator: \n",
    "   The condition for the output to be true is that both the input values has to be true.\n",
    "   here a=1 and b=0 (a=true and b=false)\n",
    "   input a         input b          output \n",
    "      0               1              False  (here there is only one true, whereas we require two trues)\n",
    "      1               0              False  (here there is only one true, whereas we require two trues)\n",
    "      0               0              False  (Here both the inputs are 0 hence the output woulb be false)\n",
    "      1               1              TRUE  (This is the required answer, which has 2 true inputs)\n",
    "   secondly NOT operator:\n",
    "   With this operator we get the opposite output.\n",
    "   input          output \n",
    "   false          True\n",
    "   True           False\n",
    "   Next comes the OR Operator:\n",
    "   Here the condition is that at least one input should be true for the output to be true.\n",
    "   here a=1 and b=0 (a=true and b=false)\n",
    "   input a         input b         output \n",
    "     1               0              TRUE\n",
    "     0               1              TRUE \n",
    "     0               0              False (Here not even one input is 1)\n",
    "     1               1              TRUE \n",
    "     "
   ]
  },
  {
   "cell_type": "code",
   "execution_count": 9,
   "id": "40c591a0",
   "metadata": {},
   "outputs": [
    {
     "data": {
      "text/plain": [
       "False"
      ]
     },
     "execution_count": 9,
     "metadata": {},
     "output_type": "execute_result"
    }
   ],
   "source": [
    "4.\n",
    "(4>5) and (3==5)"
   ]
  },
  {
   "cell_type": "code",
   "execution_count": 10,
   "id": "222f776e",
   "metadata": {},
   "outputs": [
    {
     "data": {
      "text/plain": [
       "False"
      ]
     },
     "execution_count": 10,
     "metadata": {},
     "output_type": "execute_result"
    }
   ],
   "source": [
    "not (5 > 4)"
   ]
  },
  {
   "cell_type": "code",
   "execution_count": 11,
   "id": "129bd8b8",
   "metadata": {},
   "outputs": [
    {
     "data": {
      "text/plain": [
       "True"
      ]
     },
     "execution_count": 11,
     "metadata": {},
     "output_type": "execute_result"
    }
   ],
   "source": [
    "(5 > 4) or (3 == 5)"
   ]
  },
  {
   "cell_type": "code",
   "execution_count": 12,
   "id": "59c313a1",
   "metadata": {},
   "outputs": [
    {
     "data": {
      "text/plain": [
       "False"
      ]
     },
     "execution_count": 12,
     "metadata": {},
     "output_type": "execute_result"
    }
   ],
   "source": [
    "not ((5 > 4) or (3 == 5))"
   ]
  },
  {
   "cell_type": "code",
   "execution_count": 13,
   "id": "de96d870",
   "metadata": {},
   "outputs": [
    {
     "data": {
      "text/plain": [
       "False"
      ]
     },
     "execution_count": 13,
     "metadata": {},
     "output_type": "execute_result"
    }
   ],
   "source": [
    "(True and True) and (True == False)"
   ]
  },
  {
   "cell_type": "code",
   "execution_count": 14,
   "id": "b874638c",
   "metadata": {},
   "outputs": [
    {
     "data": {
      "text/plain": [
       "True"
      ]
     },
     "execution_count": 14,
     "metadata": {},
     "output_type": "execute_result"
    }
   ],
   "source": [
    "(not False) or (not True)"
   ]
  },
  {
   "cell_type": "markdown",
   "id": "5b104631",
   "metadata": {},
   "source": [
    "5. The six comparision operators are > (greater than), < (lesser than), >= (greater than or equal to), <= (lesser than or equal to), = (equal to), != (Not equal to)."
   ]
  },
  {
   "cell_type": "markdown",
   "id": "04cc3776",
   "metadata": {},
   "source": [
    "6. The difference between the equal to and assignment operators is that assignment operators are used to assign the value to the variable for example a= 2 (here a is the variable and 2 is the value assigned to it). Where as, Equal operator are used for comparison. Hence it is used for comparing two values, if the two values are same then the output would be true or else false. "
   ]
  },
  {
   "cell_type": "code",
   "execution_count": 15,
   "id": "db6da018",
   "metadata": {},
   "outputs": [
    {
     "data": {
      "text/plain": [
       "False"
      ]
     },
     "execution_count": 15,
     "metadata": {},
     "output_type": "execute_result"
    }
   ],
   "source": [
    "(True == False)    (we used the equal operator here. where true is 1 and false is 0 hence they \n",
    "                    are not equal so the output is false )"
   ]
  },
  {
   "cell_type": "code",
   "execution_count": 17,
   "id": "84e6e6a3",
   "metadata": {},
   "outputs": [
    {
     "name": "stdout",
     "output_type": "stream",
     "text": [
      "ham\n",
      "spam\n"
     ]
    }
   ],
   "source": [
    "7.\n",
    "spam = 0\n",
    "if spam == 10:\n",
    " print('eggs')\n",
    "if spam > 5:\n",
    " print('bacon')\n",
    "else:\n",
    " print('ham')\n",
    " print('spam')"
   ]
  },
  {
   "cell_type": "code",
   "execution_count": 18,
   "id": "51efe7c8",
   "metadata": {},
   "outputs": [
    {
     "name": "stdout",
     "output_type": "stream",
     "text": [
      "bacon\n"
     ]
    }
   ],
   "source": [
    "spam = 7\n",
    "if spam == 10:\n",
    " print('eggs')\n",
    "if spam > 5:\n",
    " print('bacon')\n",
    "else:\n",
    " print('ham')\n",
    " print('spam')"
   ]
  },
  {
   "cell_type": "code",
   "execution_count": 4,
   "id": "625fa2c7",
   "metadata": {},
   "outputs": [
    {
     "name": "stdout",
     "output_type": "stream",
     "text": [
      "hello\n",
      " Howdy\n"
     ]
    }
   ],
   "source": [
    "8.\n",
    "spam = 1\n",
    "if spam == 1 :\n",
    "    print ('hello')\n",
    "    \n",
    "    if spam < 2:\n",
    "      print (' Howdy')\n",
    "    else:\n",
    "            print ('Greeting!')"
   ]
  },
  {
   "cell_type": "markdown",
   "id": "99cf7e3e",
   "metadata": {},
   "source": [
    "9. Ctrl + C"
   ]
  },
  {
   "cell_type": "markdown",
   "id": "e137591a",
   "metadata": {},
   "source": [
    "10. Break stops the continuation of the loop whereas, continue do not stop the continuation of the loop but it only stops the current iteration.  "
   ]
  },
  {
   "cell_type": "markdown",
   "id": "1ad01d0a",
   "metadata": {},
   "source": [
    "11. range (10) are the numbers from 0-9 i,e. 0,1,2,3,4,5,6,7,8,9\n",
    "    range (0, 10) are the numbers from 0-9 i,e. 0,1,2,3,4,5,6,7,8,9\n",
    "    range (0, 10, 1) are the numbers from 0-9 i,e. 0,1,2,3,4,5,6,7,8,9\n",
    "    in the first range the sequence starts from 0 and ends before the argument. The second range starts from 0 and ends at last     second value. Whereas, in the third one the range starts from 0 ends before the last second value but by leaving the value     given at last. from the above range it started from 0 with a jump of 1 and ends at the second last number."
   ]
  },
  {
   "cell_type": "code",
   "execution_count": 1,
   "id": "f9cf8a06",
   "metadata": {},
   "outputs": [
    {
     "name": "stdout",
     "output_type": "stream",
     "text": [
      "1\n",
      "2\n",
      "3\n",
      "4\n",
      "5\n",
      "6\n",
      "7\n",
      "8\n",
      "9\n",
      "10\n"
     ]
    }
   ],
   "source": [
    "12. \n",
    "for s in range (1,11):\n",
    "    print (s)"
   ]
  },
  {
   "cell_type": "code",
   "execution_count": 5,
   "id": "78283c9d",
   "metadata": {},
   "outputs": [
    {
     "name": "stdout",
     "output_type": "stream",
     "text": [
      "1\n",
      "2\n",
      "3\n",
      "4\n",
      "5\n",
      "6\n",
      "7\n",
      "8\n",
      "9\n",
      "10\n"
     ]
    }
   ],
   "source": [
    "a=1\n",
    "b=10\n",
    "\n",
    "while a<=b:\n",
    "        print(a)\n",
    "        a = a+1\n",
    "    "
   ]
  },
  {
   "cell_type": "code",
   "execution_count": null,
   "id": "6eb25fd1",
   "metadata": {},
   "outputs": [],
   "source": [
    "13. spam.bacon()"
   ]
  }
 ],
 "metadata": {
  "kernelspec": {
   "display_name": "Python 3 (ipykernel)",
   "language": "python",
   "name": "python3"
  },
  "language_info": {
   "codemirror_mode": {
    "name": "ipython",
    "version": 3
   },
   "file_extension": ".py",
   "mimetype": "text/x-python",
   "name": "python",
   "nbconvert_exporter": "python",
   "pygments_lexer": "ipython3",
   "version": "3.9.12"
  }
 },
 "nbformat": 4,
 "nbformat_minor": 5
}
