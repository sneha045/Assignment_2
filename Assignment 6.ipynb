{
 "cells": [
  {
   "cell_type": "markdown",
   "id": "d3670c56",
   "metadata": {},
   "source": [
    "1. Escape characters are those which are illigal in a string. Example of escape characters are \\n,\\t,\\r, blachslash (\\) etc. \n",
    "   Blackslash are used them when you want to insert double quotes twice in a statement that is passed. For example: \"they are      so called \"victorians\" from the past\". This statement shows an error to reslove the same we use escape characters like \"They    are so called \\\"victorians\\\" from the past\". "
   ]
  },
  {
   "cell_type": "markdown",
   "id": "2f6e96d7",
   "metadata": {},
   "source": [
    "2. The escape character n and t stands for \\n will leave the line that means it breaks the line and starts in new line. \\t This    gives one finger space between the words mentioned. "
   ]
  },
  {
   "cell_type": "markdown",
   "id": "319f78d0",
   "metadata": {},
   "source": [
    "3. blachslash \\\n",
    "   We use them when you want to insert double quotes twice in a statement that is passed. For example: \"they are so called        \"victorians\" from the past\". This statement shows an error to reslove the same we use escape characters like \"They are so       called \\\"victorians\\\" from the past\". "
   ]
  },
  {
   "cell_type": "markdown",
   "id": "25e9ef29",
   "metadata": {},
   "source": [
    "4. \"Howl's Moving Castle\" is correct in string but not is not shown when we run the program because there is no \\' mentioned in     the code written. Hence, we can write the code in the followinf way to get the required output. \"Howl\\'s Moving Castle\".  "
   ]
  },
  {
   "cell_type": "markdown",
   "id": "064eb4d6",
   "metadata": {},
   "source": [
    "5. With triple-quoted string literals, We can use actual newlines instead of \\n. "
   ]
  },
  {
   "cell_type": "code",
   "execution_count": 1,
   "id": "a89643b7",
   "metadata": {},
   "outputs": [
    {
     "data": {
      "text/plain": [
       "'e'"
      ]
     },
     "execution_count": 1,
     "metadata": {},
     "output_type": "execute_result"
    }
   ],
   "source": [
    "6.\n",
    "'Hello, world!'[1]"
   ]
  },
  {
   "cell_type": "code",
   "execution_count": 4,
   "id": "4e8427ff",
   "metadata": {},
   "outputs": [
    {
     "data": {
      "text/plain": [
       "'Hello'"
      ]
     },
     "execution_count": 4,
     "metadata": {},
     "output_type": "execute_result"
    }
   ],
   "source": [
    "'Hello, world!'[0:5]"
   ]
  },
  {
   "cell_type": "code",
   "execution_count": 5,
   "id": "00e887c2",
   "metadata": {},
   "outputs": [
    {
     "data": {
      "text/plain": [
       "'Hello'"
      ]
     },
     "execution_count": 5,
     "metadata": {},
     "output_type": "execute_result"
    }
   ],
   "source": [
    "'Hello, world!'[:5]"
   ]
  },
  {
   "cell_type": "code",
   "execution_count": 6,
   "id": "2e0c9cfc",
   "metadata": {},
   "outputs": [
    {
     "data": {
      "text/plain": [
       "'lo, world!'"
      ]
     },
     "execution_count": 6,
     "metadata": {},
     "output_type": "execute_result"
    }
   ],
   "source": [
    "'Hello, world!'[3:]"
   ]
  },
  {
   "cell_type": "code",
   "execution_count": 7,
   "id": "e1874081",
   "metadata": {},
   "outputs": [
    {
     "data": {
      "text/plain": [
       "'HELLO'"
      ]
     },
     "execution_count": 7,
     "metadata": {},
     "output_type": "execute_result"
    }
   ],
   "source": [
    "7. \n",
    "'Hello'.upper()"
   ]
  },
  {
   "cell_type": "code",
   "execution_count": 8,
   "id": "77b29441",
   "metadata": {},
   "outputs": [
    {
     "data": {
      "text/plain": [
       "True"
      ]
     },
     "execution_count": 8,
     "metadata": {},
     "output_type": "execute_result"
    }
   ],
   "source": [
    "'Hello'.upper().isupper()"
   ]
  },
  {
   "cell_type": "code",
   "execution_count": 9,
   "id": "ed402826",
   "metadata": {},
   "outputs": [
    {
     "data": {
      "text/plain": [
       "'hello'"
      ]
     },
     "execution_count": 9,
     "metadata": {},
     "output_type": "execute_result"
    }
   ],
   "source": [
    "'Hello'.upper().lower()"
   ]
  },
  {
   "cell_type": "code",
   "execution_count": 10,
   "id": "100e03ee",
   "metadata": {},
   "outputs": [
    {
     "data": {
      "text/plain": [
       "['Remember,', 'remember,', 'the', 'fifth', 'of', 'July.']"
      ]
     },
     "execution_count": 10,
     "metadata": {},
     "output_type": "execute_result"
    }
   ],
   "source": [
    "8. \n",
    "'Remember, remember, the fifth of July.'.split()"
   ]
  },
  {
   "cell_type": "code",
   "execution_count": 11,
   "id": "fc176a3c",
   "metadata": {},
   "outputs": [
    {
     "data": {
      "text/plain": [
       "'There-can-only-one.'"
      ]
     },
     "execution_count": 11,
     "metadata": {},
     "output_type": "execute_result"
    }
   ],
   "source": [
    "'-'.join('There can only one.'.split())"
   ]
  },
  {
   "cell_type": "markdown",
   "id": "9a874904",
   "metadata": {},
   "source": [
    "9. The methods of right justifying is using the function rjust(), to center justifying we use center() function and left justifying we use ljust(). "
   ]
  },
  {
   "cell_type": "markdown",
   "id": "b884bda0",
   "metadata": {},
   "source": [
    "10. We can use string.strip() Function. "
   ]
  }
 ],
 "metadata": {
  "kernelspec": {
   "display_name": "Python 3 (ipykernel)",
   "language": "python",
   "name": "python3"
  },
  "language_info": {
   "codemirror_mode": {
    "name": "ipython",
    "version": 3
   },
   "file_extension": ".py",
   "mimetype": "text/x-python",
   "name": "python",
   "nbconvert_exporter": "python",
   "pygments_lexer": "ipython3",
   "version": "3.9.12"
  }
 },
 "nbformat": 4,
 "nbformat_minor": 5
}
